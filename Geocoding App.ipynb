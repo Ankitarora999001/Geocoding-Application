{
 "cells": [
  {
   "cell_type": "markdown",
   "id": "25ced109",
   "metadata": {},
   "source": [
    "#### This programme asks for a rough location and gives back the formatted address with latitude & longitude of that location\n",
    "##### For example:\n",
    "     Input: shaheed sukhdev college\n",
    "     Output: lat 28.7320877 lng 77.1185871\n",
    "             Dr. K.N. Katju Marg Rohini, Sector 16, PSP Area IV, New Delhi, Delhi 110089, India"
   ]
  },
  {
   "cell_type": "markdown",
   "id": "0afc50ef",
   "metadata": {},
   "source": [
    "Importing urllib to read data from the Google Maps API. The API will return the data in JSON format. So, importing json library to access the data returned in JSON format."
   ]
  },
  {
   "cell_type": "code",
   "execution_count": 29,
   "id": "c5245a0c",
   "metadata": {},
   "outputs": [],
   "source": [
    "import urllib.request, urllib.parse, urllib.error\n",
    "import json\n",
    "import ssl"
   ]
  },
  {
   "cell_type": "markdown",
   "id": "5c2b4fee",
   "metadata": {},
   "source": [
    "Assigning the API link to a variable"
   ]
  },
  {
   "cell_type": "code",
   "execution_count": 30,
   "id": "432c125c",
   "metadata": {},
   "outputs": [],
   "source": [
    "api_key = False\n",
    "# If you have a Google Places API key, enter it here then you can access the data directly from that API, api_key = 'AIzaSy___IDByT70'\n",
    "# otherwise it will be accessed from the other link which contains the same data\n",
    " \n",
    "if api_key is False:\n",
    "    api_key = 42\n",
    "    serviceurl = 'http://py4e-data.dr-chuck.net/json?'\n",
    "else :\n",
    "    serviceurl = 'https://maps.googleapis.com/maps/api/geocode/json?'\n",
    "\n",
    "# SSL certificate errors\n",
    "ctx = ssl.create_default_context()\n",
    "ctx.check_hostname = False\n",
    "ctx.verify_mode = ssl.CERT_NONE"
   ]
  },
  {
   "cell_type": "markdown",
   "id": "54d6d6f9",
   "metadata": {},
   "source": [
    "Retrieving data from API"
   ]
  },
  {
   "cell_type": "code",
   "execution_count": null,
   "id": "2e247baf",
   "metadata": {},
   "outputs": [],
   "source": [
    "# Taking address input and assigned it to parms named dictionary\n",
    "while True:\n",
    "    address = input('Enter location: ')\n",
    "    if len(address) < 1: break\n",
    "    parmeter = dict()\n",
    "    parmeter['address'] = address\n",
    "    if api_key is not False: parmeter['key'] = api_key\n",
    "                \n",
    "# urllib.parse.urlencode(parms) will convert the address to url parameter format \n",
    "# For example: shaheed sukhdev college will be converted to shaheed+sukhdev+college\n",
    "# Then it is combined with serviceurl: https://maps.googleapis.com/maps/api/geocode/json?shaheed+sukhdev+college\n",
    "    url = serviceurl + urllib.parse.urlencode(parmeter)\n",
    "    \n",
    "# Connecting to API and reading JSON data   \n",
    "    uh = urllib.request.urlopen(url, context=ctx)         \n",
    "    data = uh.read().decode()                             \n",
    "    print('Retrieved', len(data), 'characters')\n",
    "        \n",
    "# This makes a dictionary object js    \n",
    "    try:                                                 \n",
    "        js = json.loads(data)                             \n",
    "    except:\n",
    "        js = None\n",
    "        \n",
    "# Checking if data was recieved or not\n",
    "    if not js or 'status' not in js or js['status'] != 'OK':\n",
    "        print('==== Failure To Retrieve ====')\n",
    "        print(data)\n",
    "        continue\n",
    "        \n",
    "# Accessing latitude and Longitute from the js dictionary object\n",
    "    lat = js['results'][0]['geometry']['location']['lat'] \n",
    "    lng = js['results'][0]['geometry']['location']['lng']\n",
    "    print('lat', lat, 'lng', lng)\n",
    "    location = js['results'][0]['formatted_address']\n",
    "    print(location)"
   ]
  }
 ],
 "metadata": {
  "kernelspec": {
   "display_name": "Python 3 (ipykernel)",
   "language": "python",
   "name": "python3"
  },
  "language_info": {
   "codemirror_mode": {
    "name": "ipython",
    "version": 3
   },
   "file_extension": ".py",
   "mimetype": "text/x-python",
   "name": "python",
   "nbconvert_exporter": "python",
   "pygments_lexer": "ipython3",
   "version": "3.9.12"
  }
 },
 "nbformat": 4,
 "nbformat_minor": 5
}
